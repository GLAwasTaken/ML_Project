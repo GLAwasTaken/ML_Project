{
 "cells": [
  {
   "cell_type": "markdown",
   "metadata": {
    "id": "9PcpQXLT9D0s"
   },
   "source": [
    "# Machine Learning project"
   ]
  },
  {
   "cell_type": "markdown",
   "metadata": {},
   "source": [
    "### Gruppo 7:\n",
    "- **Emanuele Conforti (252122)**\n",
    "- **Jacopo Garofalo (252093)**\n",
    "- **Gianmarco La Marca (252256)**"
   ]
  },
  {
   "cell_type": "markdown",
   "metadata": {
    "id": "JWCd9GI-9D02"
   },
   "source": [
    "## **Heart disease Dataset**"
   ]
  },
  {
   "cell_type": "markdown",
   "metadata": {
    "id": "HFnMTp3R9D03"
   },
   "source": [
    "### **Business Understanding**\n",
    "\n",
    "- **Scenario**\n",
    "    - CMS compiles claims data for Medicare and Medicaid patients across a variety of categories and years. This includes Inpatient and Outpatient claims, Master Beneficiary Summary Files, and many other files. Indicators from this data source have been computed by personnel in CDC's Division for Heart Disease and Stroke Prevention (DHDSP).\n",
    "The system is designed to integrate multiple indicators from many data sources to provide a comprehensive picture of the public health burden of CVDs and associated risk factors in the United States. The data are organized by location (national and state) and indicator. The data can be plotted as trends and stratified by sex and race/ethnicity.\n",
    "- **Goal**\n",
    "    - Define an automatic procedure for categorizing cardiovascular diseases "
   ]
  },
  {
   "cell_type": "markdown",
   "metadata": {
    "id": "XHVXQCXf9D07"
   },
   "source": [
    "### **Data Understanding**"
   ]
  },
  {
   "cell_type": "markdown",
   "metadata": {
    "id": "YgFbv2Qs9D1D"
   },
   "source": [
    "| Column Name                   \t| Description                                                                                                     \t| Type                      \t|\n",
    "|-------------------\t|------------------------------------------------\t|-----------------      \t|\n",
    "| ID               \t| Patient’s ID                    \t|  Numeric                      \t|\n",
    "| Age               \t| Patient’s age                 \t|  Numeric             \t|    \n",
    "| Sex                \t| Patient’s gender: F or M      \t|  Binary                      \t|\n",
    "|      BP        \t|        Blood Pressure: HIGH, NORMAL or LOW       \t|   Categorical                       \t|\n",
    "|       Cholesterol         \t|   Concentration of cholesterol in the blood: NORMAL or HIGH          \t|   Binary    \t|\n",
    "|     Na           \t|    Concentration of sodium in the blood       |     Numeric                    | \n",
    "|     K          \t|   Concentration of potassium in the blood        \t|   Numeric                       \t|\n",
    "|     Drug          \t|      The chosen cure: drugY, drugC, drugX, drugA, drugB            \t|      Categorical                    \t|"
   ]
  },
  {
   "cell_type": "code",
   "execution_count": 1,
   "metadata": {},
   "outputs": [
    {
     "data": {
      "text/html": [
       "<div>\n",
       "<style scoped>\n",
       "    .dataframe tbody tr th:only-of-type {\n",
       "        vertical-align: middle;\n",
       "    }\n",
       "\n",
       "    .dataframe tbody tr th {\n",
       "        vertical-align: top;\n",
       "    }\n",
       "\n",
       "    .dataframe thead th {\n",
       "        text-align: right;\n",
       "    }\n",
       "</style>\n",
       "<table border=\"1\" class=\"dataframe\">\n",
       "  <thead>\n",
       "    <tr style=\"text-align: right;\">\n",
       "      <th></th>\n",
       "      <th>Year</th>\n",
       "      <th>LocationAbbr</th>\n",
       "      <th>LocationDesc</th>\n",
       "      <th>DataSource</th>\n",
       "      <th>PriorityArea1</th>\n",
       "      <th>PriorityArea2</th>\n",
       "      <th>PriorityArea3</th>\n",
       "      <th>PriorityArea4</th>\n",
       "      <th>Category</th>\n",
       "      <th>Topic</th>\n",
       "      <th>...</th>\n",
       "      <th>Break_Out_Category</th>\n",
       "      <th>Break_Out</th>\n",
       "      <th>CategoryId</th>\n",
       "      <th>TopicId</th>\n",
       "      <th>IndicatorID</th>\n",
       "      <th>Data_Value_TypeID</th>\n",
       "      <th>BreakOutCategoryId</th>\n",
       "      <th>BreakOutId</th>\n",
       "      <th>LocationID</th>\n",
       "      <th>GeoLocation</th>\n",
       "    </tr>\n",
       "  </thead>\n",
       "  <tbody>\n",
       "    <tr>\n",
       "      <th>0</th>\n",
       "      <td>2006</td>\n",
       "      <td>US</td>\n",
       "      <td>United States</td>\n",
       "      <td>Medicare</td>\n",
       "      <td>NaN</td>\n",
       "      <td>NaN</td>\n",
       "      <td>NaN</td>\n",
       "      <td>NaN</td>\n",
       "      <td>Cardiovascular Diseases</td>\n",
       "      <td>Heart Failure</td>\n",
       "      <td>...</td>\n",
       "      <td>Race</td>\n",
       "      <td>Other</td>\n",
       "      <td>C1</td>\n",
       "      <td>T5</td>\n",
       "      <td>MD501</td>\n",
       "      <td>Crude</td>\n",
       "      <td>BOC04</td>\n",
       "      <td>RAC07</td>\n",
       "      <td>59</td>\n",
       "      <td>NaN</td>\n",
       "    </tr>\n",
       "    <tr>\n",
       "      <th>1</th>\n",
       "      <td>2005</td>\n",
       "      <td>US</td>\n",
       "      <td>United States</td>\n",
       "      <td>Medicare</td>\n",
       "      <td>NaN</td>\n",
       "      <td>NaN</td>\n",
       "      <td>NaN</td>\n",
       "      <td>NaN</td>\n",
       "      <td>Cardiovascular Diseases</td>\n",
       "      <td>Heart Failure</td>\n",
       "      <td>...</td>\n",
       "      <td>Race</td>\n",
       "      <td>Other</td>\n",
       "      <td>C1</td>\n",
       "      <td>T5</td>\n",
       "      <td>MD501</td>\n",
       "      <td>Crude</td>\n",
       "      <td>BOC04</td>\n",
       "      <td>RAC07</td>\n",
       "      <td>59</td>\n",
       "      <td>NaN</td>\n",
       "    </tr>\n",
       "    <tr>\n",
       "      <th>2</th>\n",
       "      <td>2007</td>\n",
       "      <td>US</td>\n",
       "      <td>United States</td>\n",
       "      <td>Medicare</td>\n",
       "      <td>NaN</td>\n",
       "      <td>NaN</td>\n",
       "      <td>NaN</td>\n",
       "      <td>NaN</td>\n",
       "      <td>Cardiovascular Diseases</td>\n",
       "      <td>Coronary Heart Disease</td>\n",
       "      <td>...</td>\n",
       "      <td>Age</td>\n",
       "      <td>65+</td>\n",
       "      <td>C1</td>\n",
       "      <td>T4</td>\n",
       "      <td>MD301</td>\n",
       "      <td>Crude</td>\n",
       "      <td>BOC03</td>\n",
       "      <td>AGE06</td>\n",
       "      <td>59</td>\n",
       "      <td>NaN</td>\n",
       "    </tr>\n",
       "    <tr>\n",
       "      <th>3</th>\n",
       "      <td>2008</td>\n",
       "      <td>US</td>\n",
       "      <td>United States</td>\n",
       "      <td>Medicare</td>\n",
       "      <td>NaN</td>\n",
       "      <td>NaN</td>\n",
       "      <td>NaN</td>\n",
       "      <td>NaN</td>\n",
       "      <td>Cardiovascular Diseases</td>\n",
       "      <td>Coronary Heart Disease</td>\n",
       "      <td>...</td>\n",
       "      <td>Gender</td>\n",
       "      <td>Female</td>\n",
       "      <td>C1</td>\n",
       "      <td>T4</td>\n",
       "      <td>MD301</td>\n",
       "      <td>Crude</td>\n",
       "      <td>BOC02</td>\n",
       "      <td>GEN02</td>\n",
       "      <td>59</td>\n",
       "      <td>NaN</td>\n",
       "    </tr>\n",
       "    <tr>\n",
       "      <th>4</th>\n",
       "      <td>2004</td>\n",
       "      <td>US</td>\n",
       "      <td>United States</td>\n",
       "      <td>Medicare</td>\n",
       "      <td>NaN</td>\n",
       "      <td>NaN</td>\n",
       "      <td>NaN</td>\n",
       "      <td>NaN</td>\n",
       "      <td>Cardiovascular Diseases</td>\n",
       "      <td>Heart Failure</td>\n",
       "      <td>...</td>\n",
       "      <td>Overall</td>\n",
       "      <td>Overall</td>\n",
       "      <td>C1</td>\n",
       "      <td>T5</td>\n",
       "      <td>MD501</td>\n",
       "      <td>Crude</td>\n",
       "      <td>BOC01</td>\n",
       "      <td>OVR01</td>\n",
       "      <td>59</td>\n",
       "      <td>NaN</td>\n",
       "    </tr>\n",
       "    <tr>\n",
       "      <th>...</th>\n",
       "      <td>...</td>\n",
       "      <td>...</td>\n",
       "      <td>...</td>\n",
       "      <td>...</td>\n",
       "      <td>...</td>\n",
       "      <td>...</td>\n",
       "      <td>...</td>\n",
       "      <td>...</td>\n",
       "      <td>...</td>\n",
       "      <td>...</td>\n",
       "      <td>...</td>\n",
       "      <td>...</td>\n",
       "      <td>...</td>\n",
       "      <td>...</td>\n",
       "      <td>...</td>\n",
       "      <td>...</td>\n",
       "      <td>...</td>\n",
       "      <td>...</td>\n",
       "      <td>...</td>\n",
       "      <td>...</td>\n",
       "      <td>...</td>\n",
       "    </tr>\n",
       "    <tr>\n",
       "      <th>42635</th>\n",
       "      <td>2012</td>\n",
       "      <td>CO</td>\n",
       "      <td>Colorado</td>\n",
       "      <td>Medicare</td>\n",
       "      <td>Million Hearts</td>\n",
       "      <td>NaN</td>\n",
       "      <td>NaN</td>\n",
       "      <td>NaN</td>\n",
       "      <td>Cardiovascular Diseases</td>\n",
       "      <td>Stroke</td>\n",
       "      <td>...</td>\n",
       "      <td>Gender</td>\n",
       "      <td>Male</td>\n",
       "      <td>C1</td>\n",
       "      <td>T6</td>\n",
       "      <td>MD601</td>\n",
       "      <td>Crude</td>\n",
       "      <td>BOC02</td>\n",
       "      <td>GEN01</td>\n",
       "      <td>8</td>\n",
       "      <td>(38.843840757000464, -106.13361092099967)</td>\n",
       "    </tr>\n",
       "    <tr>\n",
       "      <th>42636</th>\n",
       "      <td>2010</td>\n",
       "      <td>MI</td>\n",
       "      <td>Michigan</td>\n",
       "      <td>Medicare</td>\n",
       "      <td>Million Hearts</td>\n",
       "      <td>NaN</td>\n",
       "      <td>NaN</td>\n",
       "      <td>NaN</td>\n",
       "      <td>Cardiovascular Diseases</td>\n",
       "      <td>Stroke</td>\n",
       "      <td>...</td>\n",
       "      <td>Gender</td>\n",
       "      <td>Female</td>\n",
       "      <td>C1</td>\n",
       "      <td>T6</td>\n",
       "      <td>MD601</td>\n",
       "      <td>Crude</td>\n",
       "      <td>BOC02</td>\n",
       "      <td>GEN02</td>\n",
       "      <td>26</td>\n",
       "      <td>(44.6613195430005, -84.71439026999968)</td>\n",
       "    </tr>\n",
       "    <tr>\n",
       "      <th>42637</th>\n",
       "      <td>2012</td>\n",
       "      <td>ME</td>\n",
       "      <td>Maine</td>\n",
       "      <td>Medicare</td>\n",
       "      <td>Million Hearts</td>\n",
       "      <td>NaN</td>\n",
       "      <td>NaN</td>\n",
       "      <td>NaN</td>\n",
       "      <td>Cardiovascular Diseases</td>\n",
       "      <td>Stroke</td>\n",
       "      <td>...</td>\n",
       "      <td>Race</td>\n",
       "      <td>Hispanic</td>\n",
       "      <td>C1</td>\n",
       "      <td>T6</td>\n",
       "      <td>MD601</td>\n",
       "      <td>Crude</td>\n",
       "      <td>BOC04</td>\n",
       "      <td>RAC04</td>\n",
       "      <td>23</td>\n",
       "      <td>(45.254228894000505, -68.98503133599962)</td>\n",
       "    </tr>\n",
       "    <tr>\n",
       "      <th>42638</th>\n",
       "      <td>2013</td>\n",
       "      <td>ID</td>\n",
       "      <td>Idaho</td>\n",
       "      <td>Medicare</td>\n",
       "      <td>Million Hearts</td>\n",
       "      <td>NaN</td>\n",
       "      <td>NaN</td>\n",
       "      <td>NaN</td>\n",
       "      <td>Cardiovascular Diseases</td>\n",
       "      <td>Stroke</td>\n",
       "      <td>...</td>\n",
       "      <td>Race</td>\n",
       "      <td>Non-Hispanic White</td>\n",
       "      <td>C1</td>\n",
       "      <td>T6</td>\n",
       "      <td>MD601</td>\n",
       "      <td>Crude</td>\n",
       "      <td>BOC04</td>\n",
       "      <td>RAC01</td>\n",
       "      <td>16</td>\n",
       "      <td>(43.682630005000476, -114.3637300419997)</td>\n",
       "    </tr>\n",
       "    <tr>\n",
       "      <th>42639</th>\n",
       "      <td>2012</td>\n",
       "      <td>IA</td>\n",
       "      <td>Iowa</td>\n",
       "      <td>Medicare</td>\n",
       "      <td>Million Hearts</td>\n",
       "      <td>NaN</td>\n",
       "      <td>NaN</td>\n",
       "      <td>NaN</td>\n",
       "      <td>Cardiovascular Diseases</td>\n",
       "      <td>Stroke</td>\n",
       "      <td>...</td>\n",
       "      <td>Gender</td>\n",
       "      <td>Male</td>\n",
       "      <td>C1</td>\n",
       "      <td>T6</td>\n",
       "      <td>MD601</td>\n",
       "      <td>Crude</td>\n",
       "      <td>BOC02</td>\n",
       "      <td>GEN01</td>\n",
       "      <td>19</td>\n",
       "      <td>(42.46940091300047, -93.81649055599968)</td>\n",
       "    </tr>\n",
       "  </tbody>\n",
       "</table>\n",
       "<p>42640 rows × 29 columns</p>\n",
       "</div>"
      ],
      "text/plain": [
       "       Year LocationAbbr   LocationDesc DataSource   PriorityArea1  \\\n",
       "0      2006           US  United States   Medicare             NaN   \n",
       "1      2005           US  United States   Medicare             NaN   \n",
       "2      2007           US  United States   Medicare             NaN   \n",
       "3      2008           US  United States   Medicare             NaN   \n",
       "4      2004           US  United States   Medicare             NaN   \n",
       "...     ...          ...            ...        ...             ...   \n",
       "42635  2012           CO       Colorado   Medicare  Million Hearts   \n",
       "42636  2010           MI       Michigan   Medicare  Million Hearts   \n",
       "42637  2012           ME          Maine   Medicare  Million Hearts   \n",
       "42638  2013           ID          Idaho   Medicare  Million Hearts   \n",
       "42639  2012           IA           Iowa   Medicare  Million Hearts   \n",
       "\n",
       "       PriorityArea2 PriorityArea3  PriorityArea4                 Category  \\\n",
       "0                NaN           NaN            NaN  Cardiovascular Diseases   \n",
       "1                NaN           NaN            NaN  Cardiovascular Diseases   \n",
       "2                NaN           NaN            NaN  Cardiovascular Diseases   \n",
       "3                NaN           NaN            NaN  Cardiovascular Diseases   \n",
       "4                NaN           NaN            NaN  Cardiovascular Diseases   \n",
       "...              ...           ...            ...                      ...   \n",
       "42635            NaN           NaN            NaN  Cardiovascular Diseases   \n",
       "42636            NaN           NaN            NaN  Cardiovascular Diseases   \n",
       "42637            NaN           NaN            NaN  Cardiovascular Diseases   \n",
       "42638            NaN           NaN            NaN  Cardiovascular Diseases   \n",
       "42639            NaN           NaN            NaN  Cardiovascular Diseases   \n",
       "\n",
       "                        Topic  ... Break_Out_Category           Break_Out  \\\n",
       "0               Heart Failure  ...               Race               Other   \n",
       "1               Heart Failure  ...               Race               Other   \n",
       "2      Coronary Heart Disease  ...                Age                 65+   \n",
       "3      Coronary Heart Disease  ...             Gender              Female   \n",
       "4               Heart Failure  ...            Overall             Overall   \n",
       "...                       ...  ...                ...                 ...   \n",
       "42635                  Stroke  ...             Gender                Male   \n",
       "42636                  Stroke  ...             Gender              Female   \n",
       "42637                  Stroke  ...               Race            Hispanic   \n",
       "42638                  Stroke  ...               Race  Non-Hispanic White   \n",
       "42639                  Stroke  ...             Gender                Male   \n",
       "\n",
       "      CategoryId  TopicId  IndicatorID Data_Value_TypeID BreakOutCategoryId  \\\n",
       "0             C1       T5        MD501             Crude              BOC04   \n",
       "1             C1       T5        MD501             Crude              BOC04   \n",
       "2             C1       T4        MD301             Crude              BOC03   \n",
       "3             C1       T4        MD301             Crude              BOC02   \n",
       "4             C1       T5        MD501             Crude              BOC01   \n",
       "...          ...      ...          ...               ...                ...   \n",
       "42635         C1       T6        MD601             Crude              BOC02   \n",
       "42636         C1       T6        MD601             Crude              BOC02   \n",
       "42637         C1       T6        MD601             Crude              BOC04   \n",
       "42638         C1       T6        MD601             Crude              BOC04   \n",
       "42639         C1       T6        MD601             Crude              BOC02   \n",
       "\n",
       "       BreakOutId  LocationID                                GeoLocation  \n",
       "0           RAC07          59                                        NaN  \n",
       "1           RAC07          59                                        NaN  \n",
       "2           AGE06          59                                        NaN  \n",
       "3           GEN02          59                                        NaN  \n",
       "4           OVR01          59                                        NaN  \n",
       "...           ...         ...                                        ...  \n",
       "42635       GEN01           8  (38.843840757000464, -106.13361092099967)  \n",
       "42636       GEN02          26     (44.6613195430005, -84.71439026999968)  \n",
       "42637       RAC04          23   (45.254228894000505, -68.98503133599962)  \n",
       "42638       RAC01          16   (43.682630005000476, -114.3637300419997)  \n",
       "42639       GEN01          19    (42.46940091300047, -93.81649055599968)  \n",
       "\n",
       "[42640 rows x 29 columns]"
      ]
     },
     "execution_count": 1,
     "metadata": {},
     "output_type": "execute_result"
    }
   ],
   "source": [
    "import numpy as np\n",
    "import matplotlib.pyplot as plt\n",
    "import pandas as pd\n",
    "from scipy import stats\n",
    "plt.style.use('ggplot')\n",
    "\n",
    "df = pd.read_csv('heart_disease_data.csv')\n",
    "df"
   ]
  },
  {
   "cell_type": "markdown",
   "metadata": {},
   "source": [
    "#### **Number of rows and cols**"
   ]
  },
  {
   "cell_type": "code",
   "execution_count": 2,
   "metadata": {},
   "outputs": [
    {
     "data": {
      "text/plain": [
       "(42640, 29)"
      ]
     },
     "execution_count": 2,
     "metadata": {},
     "output_type": "execute_result"
    }
   ],
   "source": [
    "df.shape"
   ]
  },
  {
   "cell_type": "markdown",
   "metadata": {},
   "source": [
    "#### **Number of elements in the matrix**"
   ]
  },
  {
   "cell_type": "code",
   "execution_count": 3,
   "metadata": {},
   "outputs": [
    {
     "data": {
      "text/plain": [
       "1236560"
      ]
     },
     "execution_count": 3,
     "metadata": {},
     "output_type": "execute_result"
    }
   ],
   "source": [
    "df.size"
   ]
  },
  {
   "cell_type": "code",
   "execution_count": 4,
   "metadata": {},
   "outputs": [
    {
     "name": "stdout",
     "output_type": "stream",
     "text": [
      "<class 'pandas.core.frame.DataFrame'>\n",
      "RangeIndex: 42640 entries, 0 to 42639\n",
      "Data columns (total 29 columns):\n",
      " #   Column                      Non-Null Count  Dtype  \n",
      "---  ------                      --------------  -----  \n",
      " 0   Year                        42640 non-null  int64  \n",
      " 1   LocationAbbr                42640 non-null  object \n",
      " 2   LocationDesc                42640 non-null  object \n",
      " 3   DataSource                  42640 non-null  object \n",
      " 4   PriorityArea1               9360 non-null   object \n",
      " 5   PriorityArea2               0 non-null      float64\n",
      " 6   PriorityArea3               14560 non-null  object \n",
      " 7   PriorityArea4               0 non-null      float64\n",
      " 8   Category                    42640 non-null  object \n",
      " 9   Topic                       42640 non-null  object \n",
      " 10  Indicator                   42640 non-null  object \n",
      " 11  Data_Value_Type             42640 non-null  object \n",
      " 12  Data_Value_Unit             42640 non-null  object \n",
      " 13  Data_Value                  42111 non-null  float64\n",
      " 14  Data_Value_Alt              42640 non-null  float64\n",
      " 15  Data_Value_Footnote_Symbol  529 non-null    object \n",
      " 16  Data_Value_Footnote         529 non-null    object \n",
      " 17  LowConfidenceLimit          42111 non-null  float64\n",
      " 18  HighConfidenceLimit         42111 non-null  float64\n",
      " 19  Break_Out_Category          42640 non-null  object \n",
      " 20  Break_Out                   42640 non-null  object \n",
      " 21  CategoryId                  42640 non-null  object \n",
      " 22  TopicId                     42640 non-null  object \n",
      " 23  IndicatorID                 42640 non-null  object \n",
      " 24  Data_Value_TypeID           42640 non-null  object \n",
      " 25  BreakOutCategoryId          42640 non-null  object \n",
      " 26  BreakOutId                  42640 non-null  object \n",
      " 27  LocationID                  42640 non-null  int64  \n",
      " 28  GeoLocation                 41820 non-null  object \n",
      "dtypes: float64(6), int64(2), object(21)\n",
      "memory usage: 9.4+ MB\n"
     ]
    }
   ],
   "source": [
    "df.info()"
   ]
  },
  {
   "cell_type": "code",
   "execution_count": 5,
   "metadata": {},
   "outputs": [
    {
     "data": {
      "text/html": [
       "<div>\n",
       "<style scoped>\n",
       "    .dataframe tbody tr th:only-of-type {\n",
       "        vertical-align: middle;\n",
       "    }\n",
       "\n",
       "    .dataframe tbody tr th {\n",
       "        vertical-align: top;\n",
       "    }\n",
       "\n",
       "    .dataframe thead th {\n",
       "        text-align: right;\n",
       "    }\n",
       "</style>\n",
       "<table border=\"1\" class=\"dataframe\">\n",
       "  <thead>\n",
       "    <tr style=\"text-align: right;\">\n",
       "      <th></th>\n",
       "      <th>count</th>\n",
       "      <th>mean</th>\n",
       "      <th>std</th>\n",
       "      <th>min</th>\n",
       "      <th>25%</th>\n",
       "      <th>50%</th>\n",
       "      <th>75%</th>\n",
       "      <th>max</th>\n",
       "    </tr>\n",
       "  </thead>\n",
       "  <tbody>\n",
       "    <tr>\n",
       "      <th>Year</th>\n",
       "      <td>42640.0</td>\n",
       "      <td>2008.500000</td>\n",
       "      <td>2.872315</td>\n",
       "      <td>2004.0</td>\n",
       "      <td>2006.00</td>\n",
       "      <td>2008.5</td>\n",
       "      <td>2011.0</td>\n",
       "      <td>2013.0</td>\n",
       "    </tr>\n",
       "    <tr>\n",
       "      <th>PriorityArea2</th>\n",
       "      <td>0.0</td>\n",
       "      <td>NaN</td>\n",
       "      <td>NaN</td>\n",
       "      <td>NaN</td>\n",
       "      <td>NaN</td>\n",
       "      <td>NaN</td>\n",
       "      <td>NaN</td>\n",
       "      <td>NaN</td>\n",
       "    </tr>\n",
       "    <tr>\n",
       "      <th>PriorityArea4</th>\n",
       "      <td>0.0</td>\n",
       "      <td>NaN</td>\n",
       "      <td>NaN</td>\n",
       "      <td>NaN</td>\n",
       "      <td>NaN</td>\n",
       "      <td>NaN</td>\n",
       "      <td>NaN</td>\n",
       "      <td>NaN</td>\n",
       "    </tr>\n",
       "    <tr>\n",
       "      <th>Data_Value</th>\n",
       "      <td>42111.0</td>\n",
       "      <td>14.780896</td>\n",
       "      <td>13.286487</td>\n",
       "      <td>0.4</td>\n",
       "      <td>4.50</td>\n",
       "      <td>10.7</td>\n",
       "      <td>21.6</td>\n",
       "      <td>333.3</td>\n",
       "    </tr>\n",
       "    <tr>\n",
       "      <th>Data_Value_Alt</th>\n",
       "      <td>42640.0</td>\n",
       "      <td>14.572709</td>\n",
       "      <td>13.333826</td>\n",
       "      <td>-2.0</td>\n",
       "      <td>4.40</td>\n",
       "      <td>10.4</td>\n",
       "      <td>21.5</td>\n",
       "      <td>333.3</td>\n",
       "    </tr>\n",
       "    <tr>\n",
       "      <th>LowConfidenceLimit</th>\n",
       "      <td>42111.0</td>\n",
       "      <td>12.661509</td>\n",
       "      <td>11.453615</td>\n",
       "      <td>0.0</td>\n",
       "      <td>3.80</td>\n",
       "      <td>8.2</td>\n",
       "      <td>19.6</td>\n",
       "      <td>94.2</td>\n",
       "    </tr>\n",
       "    <tr>\n",
       "      <th>HighConfidenceLimit</th>\n",
       "      <td>42111.0</td>\n",
       "      <td>17.074028</td>\n",
       "      <td>17.910274</td>\n",
       "      <td>1.1</td>\n",
       "      <td>5.00</td>\n",
       "      <td>12.7</td>\n",
       "      <td>23.4</td>\n",
       "      <td>710.5</td>\n",
       "    </tr>\n",
       "    <tr>\n",
       "      <th>LocationID</th>\n",
       "      <td>42640.0</td>\n",
       "      <td>29.538462</td>\n",
       "      <td>16.064317</td>\n",
       "      <td>1.0</td>\n",
       "      <td>16.75</td>\n",
       "      <td>29.5</td>\n",
       "      <td>42.5</td>\n",
       "      <td>59.0</td>\n",
       "    </tr>\n",
       "  </tbody>\n",
       "</table>\n",
       "</div>"
      ],
      "text/plain": [
       "                       count         mean        std     min      25%     50%  \\\n",
       "Year                 42640.0  2008.500000   2.872315  2004.0  2006.00  2008.5   \n",
       "PriorityArea2            0.0          NaN        NaN     NaN      NaN     NaN   \n",
       "PriorityArea4            0.0          NaN        NaN     NaN      NaN     NaN   \n",
       "Data_Value           42111.0    14.780896  13.286487     0.4     4.50    10.7   \n",
       "Data_Value_Alt       42640.0    14.572709  13.333826    -2.0     4.40    10.4   \n",
       "LowConfidenceLimit   42111.0    12.661509  11.453615     0.0     3.80     8.2   \n",
       "HighConfidenceLimit  42111.0    17.074028  17.910274     1.1     5.00    12.7   \n",
       "LocationID           42640.0    29.538462  16.064317     1.0    16.75    29.5   \n",
       "\n",
       "                        75%     max  \n",
       "Year                 2011.0  2013.0  \n",
       "PriorityArea2           NaN     NaN  \n",
       "PriorityArea4           NaN     NaN  \n",
       "Data_Value             21.6   333.3  \n",
       "Data_Value_Alt         21.5   333.3  \n",
       "LowConfidenceLimit     19.6    94.2  \n",
       "HighConfidenceLimit    23.4   710.5  \n",
       "LocationID             42.5    59.0  "
      ]
     },
     "execution_count": 5,
     "metadata": {},
     "output_type": "execute_result"
    }
   ],
   "source": [
    "df.describe().T"
   ]
  },
  {
   "cell_type": "markdown",
   "metadata": {},
   "source": [
    "#### **Missing values**"
   ]
  },
  {
   "cell_type": "code",
   "execution_count": 6,
   "metadata": {},
   "outputs": [
    {
     "data": {
      "text/plain": [
       "Year                              0\n",
       "LocationAbbr                      0\n",
       "LocationDesc                      0\n",
       "DataSource                        0\n",
       "PriorityArea1                 33280\n",
       "PriorityArea2                 42640\n",
       "PriorityArea3                 28080\n",
       "PriorityArea4                 42640\n",
       "Category                          0\n",
       "Topic                             0\n",
       "Indicator                         0\n",
       "Data_Value_Type                   0\n",
       "Data_Value_Unit                   0\n",
       "Data_Value                      529\n",
       "Data_Value_Alt                    0\n",
       "Data_Value_Footnote_Symbol    42111\n",
       "Data_Value_Footnote           42111\n",
       "LowConfidenceLimit              529\n",
       "HighConfidenceLimit             529\n",
       "Break_Out_Category                0\n",
       "Break_Out                         0\n",
       "CategoryId                        0\n",
       "TopicId                           0\n",
       "IndicatorID                       0\n",
       "Data_Value_TypeID                 0\n",
       "BreakOutCategoryId                0\n",
       "BreakOutId                        0\n",
       "LocationID                        0\n",
       "GeoLocation                     820\n",
       "dtype: int64"
      ]
     },
     "execution_count": 6,
     "metadata": {},
     "output_type": "execute_result"
    }
   ],
   "source": [
    "df.isna().sum()"
   ]
  },
  {
   "cell_type": "markdown",
   "metadata": {},
   "source": [
    "There's some missing value for attributes:\n",
    "- *PriorityArea1*\n",
    "- *PriorityArea2*\n",
    "- *PriorityArea3*\n",
    "- *PriorityArea4*\n",
    "- *Data_Value*\n",
    "- *Data_Value_Footnote_Symbol*\n",
    "- *Data_Value_Footnote*\n",
    "- *LowConfidenceLimit*\n",
    "- *HighConfidenceLimit*\n",
    "- *GeoLocation*"
   ]
  },
  {
   "cell_type": "code",
   "execution_count": 7,
   "metadata": {},
   "outputs": [
    {
     "data": {
      "text/plain": [
       "(42640, 24)"
      ]
     },
     "execution_count": 7,
     "metadata": {},
     "output_type": "execute_result"
    }
   ],
   "source": [
    "threshold = 70/100 * df.shape[0]\n",
    "\n",
    "for x in df.columns:\n",
    "    if df[x].isna().sum() > threshold:\n",
    "        df = df[df.columns.difference([x])]\n",
    "\n",
    "df.shape"
   ]
  },
  {
   "cell_type": "markdown",
   "metadata": {},
   "source": [
    "#### **PriorityArea1, PriorityArea2, PriorityArea4, Data_Value_Footnote_Symbol and Data_Value_Footnote have been deleted because they had more than 70% of missing values**"
   ]
  },
  {
   "cell_type": "markdown",
   "metadata": {},
   "source": [
    "#### **Removing attributes strongly correlated**"
   ]
  },
  {
   "cell_type": "markdown",
   "metadata": {},
   "source": [
    "The correlated attributes are:\n",
    "- **Topic** and **TopicId**\n",
    "- **Break_out** and **BreakOutId**\n",
    "- **Break_out_category** and **BreakOutCategoryId**\n",
    "- **Category** and **CategoryID**\n",
    "- **Geolocation** and **LocationID**\n",
    "- **Data_value_type** and **Data_Value_TypeID**\n",
    "- **Indicator** and **IndicatorID** (we remove both)"
   ]
  },
  {
   "cell_type": "code",
   "execution_count": 8,
   "metadata": {
    "scrolled": true
   },
   "outputs": [
    {
     "data": {
      "text/html": [
       "<div>\n",
       "<style scoped>\n",
       "    .dataframe tbody tr th:only-of-type {\n",
       "        vertical-align: middle;\n",
       "    }\n",
       "\n",
       "    .dataframe tbody tr th {\n",
       "        vertical-align: top;\n",
       "    }\n",
       "\n",
       "    .dataframe thead th {\n",
       "        text-align: right;\n",
       "    }\n",
       "</style>\n",
       "<table border=\"1\" class=\"dataframe\">\n",
       "  <thead>\n",
       "    <tr style=\"text-align: right;\">\n",
       "      <th></th>\n",
       "      <th>Break_Out</th>\n",
       "      <th>Break_Out_Category</th>\n",
       "      <th>Category</th>\n",
       "      <th>DataSource</th>\n",
       "      <th>Data_Value</th>\n",
       "      <th>Data_Value_Alt</th>\n",
       "      <th>Data_Value_Type</th>\n",
       "      <th>Data_Value_Unit</th>\n",
       "      <th>GeoLocation</th>\n",
       "      <th>HighConfidenceLimit</th>\n",
       "      <th>LocationAbbr</th>\n",
       "      <th>LocationDesc</th>\n",
       "      <th>LowConfidenceLimit</th>\n",
       "      <th>PriorityArea3</th>\n",
       "      <th>Topic</th>\n",
       "      <th>Year</th>\n",
       "    </tr>\n",
       "  </thead>\n",
       "  <tbody>\n",
       "    <tr>\n",
       "      <th>0</th>\n",
       "      <td>Other</td>\n",
       "      <td>Race</td>\n",
       "      <td>Cardiovascular Diseases</td>\n",
       "      <td>Medicare</td>\n",
       "      <td>5.2</td>\n",
       "      <td>5.2</td>\n",
       "      <td>Crude</td>\n",
       "      <td>Percent (%)</td>\n",
       "      <td>NaN</td>\n",
       "      <td>5.3</td>\n",
       "      <td>US</td>\n",
       "      <td>United States</td>\n",
       "      <td>5.1</td>\n",
       "      <td>NaN</td>\n",
       "      <td>Heart Failure</td>\n",
       "      <td>2006</td>\n",
       "    </tr>\n",
       "    <tr>\n",
       "      <th>1</th>\n",
       "      <td>Other</td>\n",
       "      <td>Race</td>\n",
       "      <td>Cardiovascular Diseases</td>\n",
       "      <td>Medicare</td>\n",
       "      <td>5.1</td>\n",
       "      <td>5.1</td>\n",
       "      <td>Crude</td>\n",
       "      <td>Percent (%)</td>\n",
       "      <td>NaN</td>\n",
       "      <td>5.2</td>\n",
       "      <td>US</td>\n",
       "      <td>United States</td>\n",
       "      <td>5.1</td>\n",
       "      <td>NaN</td>\n",
       "      <td>Heart Failure</td>\n",
       "      <td>2005</td>\n",
       "    </tr>\n",
       "    <tr>\n",
       "      <th>2</th>\n",
       "      <td>65+</td>\n",
       "      <td>Age</td>\n",
       "      <td>Cardiovascular Diseases</td>\n",
       "      <td>Medicare</td>\n",
       "      <td>8.5</td>\n",
       "      <td>8.5</td>\n",
       "      <td>Crude</td>\n",
       "      <td>Percent (%)</td>\n",
       "      <td>NaN</td>\n",
       "      <td>8.5</td>\n",
       "      <td>US</td>\n",
       "      <td>United States</td>\n",
       "      <td>8.4</td>\n",
       "      <td>NaN</td>\n",
       "      <td>Coronary Heart Disease</td>\n",
       "      <td>2007</td>\n",
       "    </tr>\n",
       "    <tr>\n",
       "      <th>3</th>\n",
       "      <td>Female</td>\n",
       "      <td>Gender</td>\n",
       "      <td>Cardiovascular Diseases</td>\n",
       "      <td>Medicare</td>\n",
       "      <td>5.1</td>\n",
       "      <td>5.1</td>\n",
       "      <td>Crude</td>\n",
       "      <td>Percent (%)</td>\n",
       "      <td>NaN</td>\n",
       "      <td>5.1</td>\n",
       "      <td>US</td>\n",
       "      <td>United States</td>\n",
       "      <td>5.1</td>\n",
       "      <td>NaN</td>\n",
       "      <td>Coronary Heart Disease</td>\n",
       "      <td>2008</td>\n",
       "    </tr>\n",
       "    <tr>\n",
       "      <th>4</th>\n",
       "      <td>Overall</td>\n",
       "      <td>Overall</td>\n",
       "      <td>Cardiovascular Diseases</td>\n",
       "      <td>Medicare</td>\n",
       "      <td>6.1</td>\n",
       "      <td>6.1</td>\n",
       "      <td>Crude</td>\n",
       "      <td>Percent (%)</td>\n",
       "      <td>NaN</td>\n",
       "      <td>6.1</td>\n",
       "      <td>US</td>\n",
       "      <td>United States</td>\n",
       "      <td>6.1</td>\n",
       "      <td>NaN</td>\n",
       "      <td>Heart Failure</td>\n",
       "      <td>2004</td>\n",
       "    </tr>\n",
       "  </tbody>\n",
       "</table>\n",
       "</div>"
      ],
      "text/plain": [
       "  Break_Out Break_Out_Category                 Category DataSource  \\\n",
       "0     Other               Race  Cardiovascular Diseases   Medicare   \n",
       "1     Other               Race  Cardiovascular Diseases   Medicare   \n",
       "2       65+                Age  Cardiovascular Diseases   Medicare   \n",
       "3    Female             Gender  Cardiovascular Diseases   Medicare   \n",
       "4   Overall            Overall  Cardiovascular Diseases   Medicare   \n",
       "\n",
       "   Data_Value  Data_Value_Alt Data_Value_Type Data_Value_Unit GeoLocation  \\\n",
       "0         5.2             5.2           Crude     Percent (%)         NaN   \n",
       "1         5.1             5.1           Crude     Percent (%)         NaN   \n",
       "2         8.5             8.5           Crude     Percent (%)         NaN   \n",
       "3         5.1             5.1           Crude     Percent (%)         NaN   \n",
       "4         6.1             6.1           Crude     Percent (%)         NaN   \n",
       "\n",
       "   HighConfidenceLimit LocationAbbr   LocationDesc  LowConfidenceLimit  \\\n",
       "0                  5.3           US  United States                 5.1   \n",
       "1                  5.2           US  United States                 5.1   \n",
       "2                  8.5           US  United States                 8.4   \n",
       "3                  5.1           US  United States                 5.1   \n",
       "4                  6.1           US  United States                 6.1   \n",
       "\n",
       "  PriorityArea3                   Topic  Year  \n",
       "0           NaN           Heart Failure  2006  \n",
       "1           NaN           Heart Failure  2005  \n",
       "2           NaN  Coronary Heart Disease  2007  \n",
       "3           NaN  Coronary Heart Disease  2008  \n",
       "4           NaN           Heart Failure  2004  "
      ]
     },
     "execution_count": 8,
     "metadata": {},
     "output_type": "execute_result"
    }
   ],
   "source": [
    "df = df[df.columns.difference(['TopicId', 'BreakOutId', 'BreakOutCategoryId', 'CategoryId', 'LocationID', 'Data_Value_TypeID', 'Indicator', 'IndicatorID'])]\n",
    "df.head()"
   ]
  },
  {
   "cell_type": "markdown",
   "metadata": {},
   "source": [
    "**TODO**\n",
    "#### **Convert wrong attribute types**"
   ]
  },
  {
   "cell_type": "markdown",
   "metadata": {},
   "source": [
    "Attribute to convert: \n",
    "- Sex\n",
    "- BP\n",
    "- Cholesterol\n",
    "- Drug"
   ]
  },
  {
   "cell_type": "code",
   "execution_count": 9,
   "metadata": {},
   "outputs": [
    {
     "name": "stdout",
     "output_type": "stream",
     "text": [
      "<class 'pandas.core.frame.DataFrame'>\n",
      "RangeIndex: 42640 entries, 0 to 42639\n",
      "Data columns (total 16 columns):\n",
      " #   Column               Non-Null Count  Dtype   \n",
      "---  ------               --------------  -----   \n",
      " 0   Break_Out            42640 non-null  category\n",
      " 1   Break_Out_Category   42640 non-null  category\n",
      " 2   Category             42640 non-null  category\n",
      " 3   DataSource           42640 non-null  category\n",
      " 4   Data_Value           42111 non-null  float64 \n",
      " 5   Data_Value_Alt       42640 non-null  float64 \n",
      " 6   Data_Value_Type      42640 non-null  category\n",
      " 7   Data_Value_Unit      42640 non-null  category\n",
      " 8   GeoLocation          41820 non-null  category\n",
      " 9   HighConfidenceLimit  42111 non-null  float64 \n",
      " 10  LocationAbbr         42640 non-null  category\n",
      " 11  LocationDesc         42640 non-null  category\n",
      " 12  LowConfidenceLimit   42111 non-null  float64 \n",
      " 13  PriorityArea3        14560 non-null  category\n",
      " 14  Topic                42640 non-null  category\n",
      " 15  Year                 42640 non-null  int64   \n",
      "dtypes: category(11), float64(4), int64(1)\n",
      "memory usage: 2.1 MB\n"
     ]
    }
   ],
   "source": [
    "for attribute in df.columns:\n",
    "    if df[attribute].dtype == object:\n",
    "        df[attribute] = df[attribute].astype('category')\n",
    "        \n",
    "df.info()"
   ]
  },
  {
   "cell_type": "markdown",
   "metadata": {},
   "source": [
    "**Are there any null values?**"
   ]
  },
  {
   "cell_type": "code",
   "execution_count": 10,
   "metadata": {},
   "outputs": [
    {
     "data": {
      "text/plain": [
       "Break_Out                  0\n",
       "Break_Out_Category         0\n",
       "Category                   0\n",
       "DataSource                 0\n",
       "Data_Value               529\n",
       "Data_Value_Alt             0\n",
       "Data_Value_Type            0\n",
       "Data_Value_Unit            0\n",
       "GeoLocation              820\n",
       "HighConfidenceLimit      529\n",
       "LocationAbbr               0\n",
       "LocationDesc               0\n",
       "LowConfidenceLimit       529\n",
       "PriorityArea3          28080\n",
       "Topic                      0\n",
       "Year                       0\n",
       "dtype: int64"
      ]
     },
     "execution_count": 10,
     "metadata": {},
     "output_type": "execute_result"
    }
   ],
   "source": [
    "df.isna().sum()"
   ]
  },
  {
   "cell_type": "code",
   "execution_count": 11,
   "metadata": {},
   "outputs": [],
   "source": [
    "df = df.dropna()"
   ]
  },
  {
   "cell_type": "code",
   "execution_count": 12,
   "metadata": {},
   "outputs": [
    {
     "data": {
      "text/plain": [
       "Break_Out              0\n",
       "Break_Out_Category     0\n",
       "Category               0\n",
       "DataSource             0\n",
       "Data_Value             0\n",
       "Data_Value_Alt         0\n",
       "Data_Value_Type        0\n",
       "Data_Value_Unit        0\n",
       "GeoLocation            0\n",
       "HighConfidenceLimit    0\n",
       "LocationAbbr           0\n",
       "LocationDesc           0\n",
       "LowConfidenceLimit     0\n",
       "PriorityArea3          0\n",
       "Topic                  0\n",
       "Year                   0\n",
       "dtype: int64"
      ]
     },
     "execution_count": 12,
     "metadata": {},
     "output_type": "execute_result"
    }
   ],
   "source": [
    "df.isna().sum()"
   ]
  },
  {
   "cell_type": "markdown",
   "metadata": {},
   "source": [
    "**Building histograms**"
   ]
  },
  {
   "cell_type": "code",
   "execution_count": 13,
   "metadata": {},
   "outputs": [
    {
     "data": {
      "image/png": "[encoded data removed]",
      "text/plain": [
       "<Figure size 2000x1500 with 6 Axes>"
      ]
     },
     "metadata": {},
     "output_type": "display_data"
    }
   ],
   "source": [
    "numericDF = df[df.columns.difference(['ID'])]\n",
    "numericDF.hist(figsize = (20, 15))\n",
    "plt.show()"
   ]
  },
  {
   "cell_type": "markdown",
   "metadata": {},
   "source": [
    "##### **Bar plots for categorical attributes**"
   ]
  },
  {
   "cell_type": "code",
   "execution_count": 14,
   "metadata": {},
   "outputs": [
    {
     "ename": "KeyError",
     "evalue": "'Cholesterol'",
     "output_type": "error",
     "traceback": [
      "\u001b[0;31m---------------------------------------------------------------------------\u001b[0m",
      "\u001b[0;31mKeyError\u001b[0m                                  Traceback (most recent call last)",
      "File \u001b[0;32m~/.local/lib/python3.10/site-packages/pandas/core/indexes/base.py:3805\u001b[0m, in \u001b[0;36mIndex.get_loc\u001b[0;34m(self, key)\u001b[0m\n\u001b[1;32m   3804\u001b[0m \u001b[38;5;28;01mtry\u001b[39;00m:\n\u001b[0;32m-> 3805\u001b[0m     \u001b[38;5;28;01mreturn\u001b[39;00m \u001b[38;5;28;43mself\u001b[39;49m\u001b[38;5;241;43m.\u001b[39;49m\u001b[43m_engine\u001b[49m\u001b[38;5;241;43m.\u001b[39;49m\u001b[43mget_loc\u001b[49m\u001b[43m(\u001b[49m\u001b[43mcasted_key\u001b[49m\u001b[43m)\u001b[49m\n\u001b[1;32m   3806\u001b[0m \u001b[38;5;28;01mexcept\u001b[39;00m \u001b[38;5;167;01mKeyError\u001b[39;00m \u001b[38;5;28;01mas\u001b[39;00m err:\n",
      "File \u001b[0;32mindex.pyx:167\u001b[0m, in \u001b[0;36mpandas._libs.index.IndexEngine.get_loc\u001b[0;34m()\u001b[0m\n",
      "File \u001b[0;32mindex.pyx:196\u001b[0m, in \u001b[0;36mpandas._libs.index.IndexEngine.get_loc\u001b[0;34m()\u001b[0m\n",
      "File \u001b[0;32mpandas/_libs/hashtable_class_helper.pxi:7081\u001b[0m, in \u001b[0;36mpandas._libs.hashtable.PyObjectHashTable.get_item\u001b[0;34m()\u001b[0m\n",
      "File \u001b[0;32mpandas/_libs/hashtable_class_helper.pxi:7089\u001b[0m, in \u001b[0;36mpandas._libs.hashtable.PyObjectHashTable.get_item\u001b[0;34m()\u001b[0m\n",
      "\u001b[0;31mKeyError\u001b[0m: 'Cholesterol'",
      "\nThe above exception was the direct cause of the following exception:\n",
      "\u001b[0;31mKeyError\u001b[0m                                  Traceback (most recent call last)",
      "Cell \u001b[0;32mIn[14], line 3\u001b[0m\n\u001b[1;32m      1\u001b[0m categoricalAttributes \u001b[38;5;241m=\u001b[39m [\u001b[38;5;124m'\u001b[39m\u001b[38;5;124mCholesterol\u001b[39m\u001b[38;5;124m'\u001b[39m, \u001b[38;5;124m'\u001b[39m\u001b[38;5;124mBP\u001b[39m\u001b[38;5;124m'\u001b[39m, \u001b[38;5;124m'\u001b[39m\u001b[38;5;124mDrug\u001b[39m\u001b[38;5;124m'\u001b[39m]\n\u001b[1;32m      2\u001b[0m \u001b[38;5;28;01mfor\u001b[39;00m attribute \u001b[38;5;129;01min\u001b[39;00m categoricalAttributes:\n\u001b[0;32m----> 3\u001b[0m     val \u001b[38;5;241m=\u001b[39m \u001b[43mdf\u001b[49m\u001b[43m[\u001b[49m\u001b[43mattribute\u001b[49m\u001b[43m]\u001b[49m\u001b[38;5;241m.\u001b[39mvalue_counts()\n\u001b[1;32m      4\u001b[0m     val\u001b[38;5;241m.\u001b[39mplot(kind \u001b[38;5;241m=\u001b[39m \u001b[38;5;124m'\u001b[39m\u001b[38;5;124mbar\u001b[39m\u001b[38;5;124m'\u001b[39m, figsize \u001b[38;5;241m=\u001b[39m (\u001b[38;5;241m5\u001b[39m, \u001b[38;5;241m5\u001b[39m))\n\u001b[1;32m      5\u001b[0m     plt\u001b[38;5;241m.\u001b[39mylabel(\u001b[38;5;124m'\u001b[39m\u001b[38;5;124mcount\u001b[39m\u001b[38;5;124m'\u001b[39m)\n",
      "File \u001b[0;32m~/.local/lib/python3.10/site-packages/pandas/core/frame.py:4090\u001b[0m, in \u001b[0;36mDataFrame.__getitem__\u001b[0;34m(self, key)\u001b[0m\n\u001b[1;32m   4088\u001b[0m \u001b[38;5;28;01mif\u001b[39;00m \u001b[38;5;28mself\u001b[39m\u001b[38;5;241m.\u001b[39mcolumns\u001b[38;5;241m.\u001b[39mnlevels \u001b[38;5;241m>\u001b[39m \u001b[38;5;241m1\u001b[39m:\n\u001b[1;32m   4089\u001b[0m     \u001b[38;5;28;01mreturn\u001b[39;00m \u001b[38;5;28mself\u001b[39m\u001b[38;5;241m.\u001b[39m_getitem_multilevel(key)\n\u001b[0;32m-> 4090\u001b[0m indexer \u001b[38;5;241m=\u001b[39m \u001b[38;5;28;43mself\u001b[39;49m\u001b[38;5;241;43m.\u001b[39;49m\u001b[43mcolumns\u001b[49m\u001b[38;5;241;43m.\u001b[39;49m\u001b[43mget_loc\u001b[49m\u001b[43m(\u001b[49m\u001b[43mkey\u001b[49m\u001b[43m)\u001b[49m\n\u001b[1;32m   4091\u001b[0m \u001b[38;5;28;01mif\u001b[39;00m is_integer(indexer):\n\u001b[1;32m   4092\u001b[0m     indexer \u001b[38;5;241m=\u001b[39m [indexer]\n",
      "File \u001b[0;32m~/.local/lib/python3.10/site-packages/pandas/core/indexes/base.py:3812\u001b[0m, in \u001b[0;36mIndex.get_loc\u001b[0;34m(self, key)\u001b[0m\n\u001b[1;32m   3807\u001b[0m     \u001b[38;5;28;01mif\u001b[39;00m \u001b[38;5;28misinstance\u001b[39m(casted_key, \u001b[38;5;28mslice\u001b[39m) \u001b[38;5;129;01mor\u001b[39;00m (\n\u001b[1;32m   3808\u001b[0m         \u001b[38;5;28misinstance\u001b[39m(casted_key, abc\u001b[38;5;241m.\u001b[39mIterable)\n\u001b[1;32m   3809\u001b[0m         \u001b[38;5;129;01mand\u001b[39;00m \u001b[38;5;28many\u001b[39m(\u001b[38;5;28misinstance\u001b[39m(x, \u001b[38;5;28mslice\u001b[39m) \u001b[38;5;28;01mfor\u001b[39;00m x \u001b[38;5;129;01min\u001b[39;00m casted_key)\n\u001b[1;32m   3810\u001b[0m     ):\n\u001b[1;32m   3811\u001b[0m         \u001b[38;5;28;01mraise\u001b[39;00m InvalidIndexError(key)\n\u001b[0;32m-> 3812\u001b[0m     \u001b[38;5;28;01mraise\u001b[39;00m \u001b[38;5;167;01mKeyError\u001b[39;00m(key) \u001b[38;5;28;01mfrom\u001b[39;00m \u001b[38;5;21;01merr\u001b[39;00m\n\u001b[1;32m   3813\u001b[0m \u001b[38;5;28;01mexcept\u001b[39;00m \u001b[38;5;167;01mTypeError\u001b[39;00m:\n\u001b[1;32m   3814\u001b[0m     \u001b[38;5;66;03m# If we have a listlike key, _check_indexing_error will raise\u001b[39;00m\n\u001b[1;32m   3815\u001b[0m     \u001b[38;5;66;03m#  InvalidIndexError. Otherwise we fall through and re-raise\u001b[39;00m\n\u001b[1;32m   3816\u001b[0m     \u001b[38;5;66;03m#  the TypeError.\u001b[39;00m\n\u001b[1;32m   3817\u001b[0m     \u001b[38;5;28mself\u001b[39m\u001b[38;5;241m.\u001b[39m_check_indexing_error(key)\n",
      "\u001b[0;31mKeyError\u001b[0m: 'Cholesterol'"
     ]
    }
   ],
   "source": [
    "categoricalAttributes = ['Cholesterol', 'BP', 'Drug']\n",
    "for attribute in categoricalAttributes:\n",
    "    val = df[attribute].value_counts()\n",
    "    val.plot(kind = 'bar', figsize = (5, 5))\n",
    "    plt.ylabel('count')\n",
    "    plt.xlabel(attribute)\n",
    "    plt.show()"
   ]
  },
  {
   "cell_type": "markdown",
   "metadata": {},
   "source": [
    "#### **Histograms and bar plots according to the class attributes**"
   ]
  },
  {
   "cell_type": "code",
   "execution_count": null,
   "metadata": {},
   "outputs": [],
   "source": [
    "import seaborn as sb"
   ]
  },
  {
   "cell_type": "code",
   "execution_count": null,
   "metadata": {},
   "outputs": [],
   "source": [
    "dfWithoutID = df[df.columns.difference(\n",
    "    ['ID'])]\n",
    "attributes =  dfWithoutID.columns.difference(['Drug'])\n",
    "\n",
    "for attribute in attributes:\n",
    "    sb.histplot(x = df[attribute], hue = 'Drug', data = dfWithoutID, kde=True)\n",
    "    plt.show()"
   ]
  },
  {
   "cell_type": "code",
   "execution_count": null,
   "metadata": {},
   "outputs": [],
   "source": [
    "dfWithoutID.plot(kind='box', subplots=True, sharex=False, sharey=False, figsize=(15, 27), layout=(5, 4))\n",
    "plt.show()"
   ]
  },
  {
   "cell_type": "code",
   "execution_count": null,
   "metadata": {},
   "outputs": [],
   "source": [
    "sb.pairplot(dfWithoutID, hue = 'Drug')\n",
    "plt.show()"
   ]
  },
  {
   "cell_type": "markdown",
   "metadata": {
    "id": "SNoICfgK9D19"
   },
   "source": [
    "### **Data Preparation**"
   ]
  },
  {
   "cell_type": "markdown",
   "metadata": {},
   "source": [
    "##### *Remove all the attributes with too high (typically IDs) or too low variability (column that exhibit the same value for all the records) and all redundat attribute*"
   ]
  },
  {
   "cell_type": "code",
   "execution_count": null,
   "metadata": {},
   "outputs": [],
   "source": [
    "df = df[df.columns.difference(['ID'])]"
   ]
  },
  {
   "cell_type": "markdown",
   "metadata": {},
   "source": [
    "**Ho deciso di mantenere tutti gli attributi tranne l'ID, perchè sembrano avere tutti distribuzioni eterogenee. E' giusto?**"
   ]
  },
  {
   "cell_type": "code",
   "execution_count": null,
   "metadata": {},
   "outputs": [],
   "source": [
    "df.isna().sum()"
   ]
  },
  {
   "cell_type": "markdown",
   "metadata": {},
   "source": [
    "**Discretize Na and K attributes**"
   ]
  },
  {
   "cell_type": "code",
   "execution_count": null,
   "metadata": {},
   "outputs": [],
   "source": [
    "df['Na_freq'] = pd.cut(df['Na'].values, bins =(0.4, 0.7, 1), labels = ('Low', 'High'))\n",
    "df['Na_freq'] = df['Na_freq'].astype('category')\n",
    "df.drop(columns=['Na'], inplace = True)"
   ]
  },
  {
   "cell_type": "code",
   "execution_count": null,
   "metadata": {},
   "outputs": [],
   "source": [
    "df['K_freq'] = pd.cut(df['K'].values, bins =(0.01, 0.05, 0.09), labels = ('Low', 'High'))\n",
    "df['K_freq'] = df['K_freq'].astype('category')\n",
    "df.drop(columns=['K'], inplace = True)"
   ]
  },
  {
   "cell_type": "code",
   "execution_count": null,
   "metadata": {},
   "outputs": [],
   "source": [
    "df.head()"
   ]
  },
  {
   "cell_type": "markdown",
   "metadata": {},
   "source": [
    "**Binarization of categorical attributes**"
   ]
  },
  {
   "cell_type": "code",
   "execution_count": null,
   "metadata": {},
   "outputs": [],
   "source": [
    "cat_attributes = list(df.select_dtypes(include = ['category']).columns)\n",
    "cat_attributes.remove('Drug')\n",
    "df2 = pd.get_dummies(df, columns = cat_attributes)\n",
    "new_attr_list = list(df2.columns)\n",
    "new_attr_list.remove('Drug')\n",
    "df2 = df2[new_attr_list]\n",
    "df2.head()"
   ]
  },
  {
   "cell_type": "code",
   "execution_count": null,
   "metadata": {},
   "outputs": [],
   "source": [
    "plt.figure(figsize=(15, 7))\n",
    "sb.heatmap(df2.corr(), annot=True, cmap='magma', fmt='.2f')\n",
    "plt.show()"
   ]
  },
  {
   "cell_type": "markdown",
   "metadata": {},
   "source": [
    "**Ho stampato l'heatmap solo dopo la binarization e discretization per avere l'heatmap completa (con tutti gli attributi). E' corretto o sarebbe meglio generare l'heatmap prima della Data Preparation, usando solo gli attributi numerici?**"
   ]
  },
  {
   "cell_type": "markdown",
   "metadata": {},
   "source": [
    "### **Modeling**"
   ]
  },
  {
   "cell_type": "markdown",
   "metadata": {
    "tags": []
   },
   "source": [
    "#### Split dataset"
   ]
  },
  {
   "cell_type": "code",
   "execution_count": null,
   "metadata": {},
   "outputs": [],
   "source": [
    "from sklearn.model_selection import train_test_split\n",
    "import numpy as np\n",
    "\n",
    "x = np.array(df2.values)\n",
    "y = np.array(df['Drug'].values)\n",
    "\n",
    "seed = 101\n",
    "test_size = .3\n",
    "val_size = .2\n",
    "\n",
    "x_train, x_test, y_train, y_test = train_test_split(x, y, test_size=test_size, random_state=seed)\n",
    "x_train, x_val, y_train, y_val = train_test_split(x_train, y_train, test_size=val_size, random_state=seed)"
   ]
  },
  {
   "cell_type": "markdown",
   "metadata": {},
   "source": [
    "#### Create the models"
   ]
  },
  {
   "cell_type": "code",
   "execution_count": null,
   "metadata": {},
   "outputs": [],
   "source": [
    "from sklearn.tree import DecisionTreeClassifier\n",
    "from sklearn.naive_bayes import GaussianNB\n",
    "from sklearn.neural_network import MLPClassifier\n",
    "\n",
    "from sklearn.metrics import classification_report"
   ]
  },
  {
   "cell_type": "code",
   "execution_count": null,
   "metadata": {
    "scrolled": true
   },
   "outputs": [],
   "source": [
    "models = []\n",
    "models.append(('C45', DecisionTreeClassifier(criterion='entropy', random_state=seed)))\n",
    "models.append(('CART', DecisionTreeClassifier(criterion='gini', random_state=seed)))\n",
    "models.append(('GaussianNaiveBayes', GaussianNB()))\n",
    "models.append(('NeuralNetwork', MLPClassifier(hidden_layer_sizes=(50, 10, ), max_iter=500, verbose=True, \n",
    "                                              random_state=seed)))\n",
    "\n",
    "\n",
    "# evaluate each model in turn\n",
    "\n",
    "for name, model in models:\n",
    "    print(name)\n",
    "    \n",
    "    model.fit(x_train, y_train)\n",
    "    y_val_pred = model.predict(x_val)\n",
    "    \n",
    "    # print('Classification metrics: ')\n",
    "    # print(classification_report(y_val, y_val_pred))\n",
    "    print(f'Accuracy: {accuracy_score(y_val, y_val_pred):.2f}')\n",
    "    print()"
   ]
  },
  {
   "cell_type": "markdown",
   "metadata": {},
   "source": [
    "### **Evaluation**"
   ]
  },
  {
   "cell_type": "markdown",
   "metadata": {
    "tags": []
   },
   "source": [
    "#### Predictions on test set"
   ]
  },
  {
   "cell_type": "code",
   "execution_count": null,
   "metadata": {},
   "outputs": [],
   "source": [
    "from sklearn.metrics import classification_report\n",
    "from sklearn.metrics import confusion_matrix\n",
    "from sklearn.metrics import accuracy_score"
   ]
  },
  {
   "cell_type": "code",
   "execution_count": null,
   "metadata": {},
   "outputs": [],
   "source": [
    "models_test = []\n",
    "models_test.append(('C45', DecisionTreeClassifier(criterion='entropy', random_state=seed)))\n",
    "models_test.append(('CART', DecisionTreeClassifier(criterion='gini', random_state=seed)))\n",
    "models_test.append(('GaussianNaiveBayes', GaussianNB()))\n",
    "models_test.append(('NeuralNetwork', MLPClassifier(hidden_layer_sizes=(50, 10, ), max_iter=500, verbose=True, \n",
    "                                              random_state=seed)))\n",
    "\n",
    "predictions = []\n",
    "\n",
    "for name, model in models_test:\n",
    "    print(name)\n",
    "    \n",
    "    model.fit(x_train, y_train)\n",
    "    pred = model.predict(x_test)\n",
    "    predictions.append(pred)\n",
    "\n",
    "    print(f'Accuracy: {accuracy_score(y_test, pred):.2f}')\n",
    "    print()"
   ]
  },
  {
   "cell_type": "code",
   "execution_count": null,
   "metadata": {},
   "outputs": [],
   "source": [
    "def make_confusion_matrix(cf, categories='auto', cbar=True, cmap='Blues', title=None):\n",
    "    group_counts = [f'{value}\\n' for value in cf.flatten()]\n",
    "\n",
    "    box_labels = [f'{v1}'.strip() for v1 in group_counts]\n",
    "    box_labels = np.asarray(box_labels).reshape(cf.shape[0],cf.shape[1])\n",
    "\n",
    "    sb.heatmap(cf, annot=box_labels, fmt='', cmap=cmap, cbar=cbar, xticklabels=categories, yticklabels=categories)\n",
    "\n",
    "    \n",
    "    plt.ylabel('True label')\n",
    "    plt.xlabel('Predicted label')\n",
    "    \n",
    "    if title:\n",
    "        plt.title(title)"
   ]
  },
  {
   "cell_type": "code",
   "execution_count": null,
   "metadata": {},
   "outputs": [],
   "source": [
    "categories = df['Drug'].unique()\n",
    "\n",
    "for i in range(len(models_test)):\n",
    "    plt.figure()\n",
    "    \n",
    "    make_confusion_matrix(confusion_matrix(y_test, predictions[i]), categories=categories, cmap='binary')\n",
    "    \n",
    "    plt.title(f\"Confusion Matrix for {models_test[i][0]}\")\n",
    "    plt.xlabel('Predicted Label')\n",
    "    plt.ylabel('True Label')\n",
    "    plt.xticks(ticks=range(len(categories)), labels=categories)\n",
    "    plt.yticks(ticks=range(len(categories)), labels=categories)\n",
    "    plt.show()"
   ]
  },
  {
   "cell_type": "markdown",
   "metadata": {},
   "source": [
    "##### **Compute the Roc Curve for each class**"
   ]
  },
  {
   "cell_type": "code",
   "execution_count": null,
   "metadata": {},
   "outputs": [],
   "source": [
    "from sklearn.metrics import roc_curve, auc"
   ]
  },
  {
   "cell_type": "code",
   "execution_count": null,
   "metadata": {},
   "outputs": [],
   "source": [
    "one_hot_encoding = np.array(pd.get_dummies(y_test, columns = ['Drug']))\n",
    "\n",
    "probs = []\n",
    "\n",
    "for _, model in models:\n",
    "    model.fit(x_train, y_train)\n",
    "    probs.append(model.predict_proba(x_test))"
   ]
  },
  {
   "cell_type": "code",
   "execution_count": null,
   "metadata": {},
   "outputs": [],
   "source": [
    "fpr = dict()\n",
    "tpr = dict()\n",
    "roc_auc = dict()\n",
    "\n",
    "for i in range(len(np.unique(y))):\n",
    "    plt.figure()\n",
    "    m = 0\n",
    "\n",
    "    for name, _ in models:\n",
    "        fpr[i], tpr[i], _ = roc_curve(one_hot_encoding[:, i], probs[m][:, i])\n",
    "        \n",
    "        roc_auc[i] = auc(fpr[i], tpr[i])\n",
    "\n",
    "        plt.plot(fpr[i], tpr[i], lw=5, label=name + f' (area = {roc_auc[i]:.2f})')\n",
    "        m += 1\n",
    "\n",
    "    plt.plot([0, 1], [0, 1], lw=2, linestyle='--')\n",
    "    plt.xlim([0.0, 1.0])\n",
    "    plt.ylim([0.0, 1.0])\n",
    "    plt.xlabel('False Positive Rate')\n",
    "    plt.ylabel('True Positive Rate')\n",
    "    plt.title('Class = ' + str(np.unique(y)[i]))\n",
    "    plt.legend(loc='lower right')\n",
    "\n",
    "    plt.show()  "
   ]
  },
  {
   "cell_type": "markdown",
   "metadata": {},
   "source": [
    "#### C45 (Decision tree con entropy) e NN sembrano essere gli algoritmi migliori, con accuracy maggiore (0.86) e con ROC curve migliore (area sottostante la curva maggiore)"
   ]
  },
  {
   "cell_type": "code",
   "execution_count": null,
   "metadata": {},
   "outputs": [],
   "source": []
  }
 ],
 "metadata": {
  "accelerator": "GPU",
  "colab": {
   "collapsed_sections": [],
   "name": "KDD99-Copy1.ipynb",
   "provenance": []
  },
  "kernelspec": {
   "display_name": "Python 3 (ipykernel)",
   "language": "python",
   "name": "python3"
  },
  "language_info": {
   "codemirror_mode": {
    "name": "ipython",
    "version": 3
   },
   "file_extension": ".py",
   "mimetype": "text/x-python",
   "name": "python",
   "nbconvert_exporter": "python",
   "pygments_lexer": "ipython3",
   "version": "3.10.12"
  }
 },
 "nbformat": 4,
 "nbformat_minor": 4
}
